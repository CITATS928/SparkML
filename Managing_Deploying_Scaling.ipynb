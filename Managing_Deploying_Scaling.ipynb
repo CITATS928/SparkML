{
 "cells": [
  {
   "cell_type": "code",
   "execution_count": null,
   "id": "15dd5070-6ecf-417e-8bc6-fefc73734aa7",
   "metadata": {},
   "outputs": [],
   "source": []
  },
  {
   "cell_type": "code",
   "execution_count": 4,
   "id": "83ac411a-8dac-421e-bc26-ecfa522069d9",
   "metadata": {},
   "outputs": [],
   "source": [
    "from pyspark.ml import Pipeline\n",
    "from pyspark.ml.feature import StringIndexer, VectorAssembler\n",
    "from pyspark.ml.regression import RandomForestRegressor\n",
    "from pyspark.ml.evaluation import RegressionEvaluator\n",
    "from pyspark.sql import SparkSession"
   ]
  },
  {
   "cell_type": "code",
   "execution_count": 5,
   "id": "9fae319b-bec5-40eb-a549-347a33246663",
   "metadata": {},
   "outputs": [
    {
     "name": "stderr",
     "output_type": "stream",
     "text": [
      "24/08/20 09:57:50 WARN Utils: Your hostname, Zipcoders-MacBook-Pro-2.local resolves to a loopback address: 127.0.0.1; using 192.168.3.169 instead (on interface en0)\n",
      "24/08/20 09:57:50 WARN Utils: Set SPARK_LOCAL_IP if you need to bind to another address\n",
      "Setting default log level to \"WARN\".\n",
      "To adjust logging level use sc.setLogLevel(newLevel). For SparkR, use setLogLevel(newLevel).\n",
      "24/08/20 09:57:50 WARN NativeCodeLoader: Unable to load native-hadoop library for your platform... using builtin-java classes where applicable\n",
      "24/08/20 09:57:51 WARN Utils: Service 'SparkUI' could not bind on port 4040. Attempting port 4041.\n"
     ]
    }
   ],
   "source": [
    "spark = SparkSession.builder.appName(\"MLflow\").getOrCreate()"
   ]
  },
  {
   "cell_type": "code",
   "execution_count": 7,
   "id": "5e39a383-6542-4c6a-920c-d4b1df579b6d",
   "metadata": {},
   "outputs": [],
   "source": [
    "\n",
    "filePath = \"/Users/qian/Desktop/Zipcode/Python/LearningSparkV2/databricks-datasets/learning-spark-v2/sf-airbnb/sf-airbnb-clean.parquet/\"\n",
    "airbnbDF = spark.read.parquet(filePath)\n",
    "(trainDF, testDF) = airbnbDF.randomSplit([.8, .2], seed=42)\n",
    "categoricalCols = [field for (field, dataType) in trainDF.dtypes\n",
    "if dataType == \"string\"]\n",
    "indexOutputCols = [x + \"Index\" for x in categoricalCols]\n",
    "stringIndexer = StringIndexer(inputCols=categoricalCols,\n",
    "outputCols=indexOutputCols,\n",
    "handleInvalid=\"skip\")\n",
    "numericCols = [field for (field, dataType) in trainDF.dtypes\n",
    "if ((dataType == \"double\") & (field != \"price\"))]\n",
    "assemblerInputs = indexOutputCols + numericCols\n",
    "vecAssembler = VectorAssembler(inputCols=assemblerInputs,\n",
    "outputCol=\"features\")\n",
    "rf = RandomForestRegressor(labelCol=\"price\", maxBins=40, maxDepth=5,\n",
    "numTrees=100, seed=42)\n",
    "pipeline = Pipeline(stages=[stringIndexer, vecAssembler, rf])"
   ]
  },
  {
   "cell_type": "code",
   "execution_count": 9,
   "id": "4191f353-9c8d-4191-a24b-1f6ce04b6602",
   "metadata": {},
   "outputs": [],
   "source": [
    "import mlflow\n",
    "import mlflow.spark\n",
    "import pandas as pd"
   ]
  },
  {
   "cell_type": "code",
   "execution_count": 15,
   "id": "99b906a5-2b6c-4a76-a158-b8c7ddf19fd2",
   "metadata": {},
   "outputs": [
    {
     "name": "stderr",
     "output_type": "stream",
     "text": [
      "2024/08/20 10:06:02 WARNING mlflow.models.model: Input example should be provided to infer model signature if the model signature is not provided when logging the model.\n"
     ]
    }
   ],
   "source": [
    "with mlflow.start_run(run_name=\"random-forest\") as run:\n",
    "    # Log params: num_trees and max_depth\n",
    "    mlflow.log_param(\"num_trees\", rf.getNumTrees())\n",
    "    mlflow.log_param(\"max_depth\", rf.getMaxDepth())\n",
    "\n",
    "    # Log model\n",
    "    pipelineModel = pipeline.fit(trainDF)\n",
    "    mlflow.spark.log_model(pipelineModel, \"model\")\n",
    "\n",
    "    # Log metrics: RMSE and R2\n",
    "    predDF = pipelineModel.transform(testDF)\n",
    "    regressionEvaluator = RegressionEvaluator(predictionCol=\"prediction\", labelCol=\"price\")\n",
    "    rmse = regressionEvaluator.setMetricName(\"rmse\").evaluate(predDF)\n",
    "    \n",
    "    r2 = regressionEvaluator.setMetricName(\"r2\").evaluate(predDF)\n",
    "    mlflow.log_metrics({\"rmse\": rmse, \"r2\": r2})\n",
    "    \n",
    "    # Log artifact: feature importance scores\n",
    "    rfModel = pipelineModel.stages[-1]\n",
    "    pandasDF = (pd.DataFrame(list(zip(vecAssembler.getInputCols(),rfModel.featureImportances)),columns=[\"feature\", \"importance\"]).sort_values(by=\"importance\", ascending=False))\n",
    "    \n",
    "    # First write to local filesystem, then tell MLflow where to find that file\n",
    "    pandasDF.to_csv(\"feature-importance.csv\", index=False)\n",
    "    mlflow.log_artifact(\"feature-importance.csv\")"
   ]
  },
  {
   "cell_type": "code",
   "execution_count": 13,
   "id": "66934e6d-cfac-4f18-a26d-33e2214094b0",
   "metadata": {},
   "outputs": [],
   "source": [
    "mlflow.end_run()"
   ]
  },
  {
   "cell_type": "code",
   "execution_count": 16,
   "id": "c79af7bc-767e-46e0-8069-1577886d934a",
   "metadata": {},
   "outputs": [
    {
     "data": {
      "text/plain": [
       "{'r2': 0.22794251914574226, 'rmse': 211.5096898777315}"
      ]
     },
     "execution_count": 16,
     "metadata": {},
     "output_type": "execute_result"
    }
   ],
   "source": [
    "from mlflow.tracking import MlflowClient\n",
    "client = MlflowClient()\n",
    "runs = client.search_runs(run.info.experiment_id,order_by=[\"attributes.start_time desc\"],max_results=1)\n",
    "run_id = runs[0].info.run_id\n",
    "runs[0].data.metrics"
   ]
  },
  {
   "cell_type": "code",
   "execution_count": 18,
   "id": "7b201fff-88d4-4b4a-9139-ac2eda454770",
   "metadata": {},
   "outputs": [
    {
     "name": "stderr",
     "output_type": "stream",
     "text": [
      "2024/08/20 10:11:50 INFO mlflow.projects.utils: === Fetching project from https://github.com/databricks/LearningSparkV2/#mlflow-project-example into /var/folders/zm/d0465cgn1zvdzj96xmp0pxww0000gp/T/tmp43p2dgwn ===\n",
      "2024/08/20 10:12:00 INFO mlflow.projects.utils: Fetched 'master' branch\n",
      "2024/08/20 10:12:02 INFO mlflow.utils.conda: === Creating conda environment mlflow-a91eb9b529409372aa4585b19c73952959a7a296 ===\n"
     ]
    },
    {
     "name": "stdout",
     "output_type": "stream",
     "text": [
      "Channels:\n",
      " - conda-forge\n",
      " - defaults\n",
      "Platform: osx-arm64\n",
      "Collecting package metadata (repodata.json): ...working... done\n",
      "Solving environment: ...working... failed\n"
     ]
    },
    {
     "name": "stderr",
     "output_type": "stream",
     "text": [
      "\n",
      "PackagesNotFoundError: The following packages are not available from current channels:\n",
      "\n",
      "  - python=3.7*\n",
      "  - pip=19.0.3*\n",
      "  - pandas=0.24*\n",
      "\n",
      "Current channels:\n",
      "\n",
      "  - https://conda.anaconda.org/conda-forge/osx-arm64\n",
      "  - https://repo.anaconda.com/pkgs/main/osx-arm64\n",
      "  - https://repo.anaconda.com/pkgs/r/osx-arm64\n",
      "\n",
      "To search for alternate channels that may provide the conda package you're\n",
      "looking for, navigate to\n",
      "\n",
      "    https://anaconda.org\n",
      "\n",
      "and use the search bar at the top of the page.\n",
      "\n",
      "\n"
     ]
    },
    {
     "ename": "ShellCommandException",
     "evalue": "Non-zero exit code: 1\nCommand: ['conda', 'env', 'create', '-n', 'mlflow-a91eb9b529409372aa4585b19c73952959a7a296', '--file', '/var/folders/zm/d0465cgn1zvdzj96xmp0pxww0000gp/T/tmp43p2dgwn/mlflow-project-example/conda.yaml', '--quiet']",
     "output_type": "error",
     "traceback": [
      "\u001b[0;31m---------------------------------------------------------------------------\u001b[0m",
      "\u001b[0;31mShellCommandException\u001b[0m                     Traceback (most recent call last)",
      "Cell \u001b[0;32mIn[18], line 1\u001b[0m\n\u001b[0;32m----> 1\u001b[0m \u001b[43mmlflow\u001b[49m\u001b[38;5;241;43m.\u001b[39;49m\u001b[43mrun\u001b[49m\u001b[43m(\u001b[49m\u001b[38;5;124;43m\"\u001b[39;49m\u001b[38;5;124;43mhttps://github.com/databricks/LearningSparkV2/#mlflow-project-example\u001b[39;49m\u001b[38;5;124;43m\"\u001b[39;49m\u001b[43m,\u001b[49m\u001b[43mparameters\u001b[49m\u001b[38;5;241;43m=\u001b[39;49m\u001b[43m{\u001b[49m\u001b[38;5;124;43m\"\u001b[39;49m\u001b[38;5;124;43mmax_depth\u001b[39;49m\u001b[38;5;124;43m\"\u001b[39;49m\u001b[43m:\u001b[49m\u001b[43m \u001b[49m\u001b[38;5;241;43m5\u001b[39;49m\u001b[43m,\u001b[49m\u001b[43m \u001b[49m\u001b[38;5;124;43m\"\u001b[39;49m\u001b[38;5;124;43mnum_trees\u001b[39;49m\u001b[38;5;124;43m\"\u001b[39;49m\u001b[43m:\u001b[49m\u001b[43m \u001b[49m\u001b[38;5;241;43m100\u001b[39;49m\u001b[43m}\u001b[49m\u001b[43m)\u001b[49m\n",
      "File \u001b[0;32m~/Desktop/ZipCode/Python/myenv/lib/python3.12/site-packages/mlflow/projects/__init__.py:354\u001b[0m, in \u001b[0;36mrun\u001b[0;34m(uri, entry_point, version, parameters, docker_args, experiment_name, experiment_id, backend, backend_config, storage_dir, synchronous, run_id, run_name, env_manager, build_image, docker_auth)\u001b[0m\n\u001b[1;32m    348\u001b[0m     backend_config_dict[MLFLOW_LOCAL_BACKEND_RUN_ID_CONFIG] \u001b[38;5;241m=\u001b[39m run_id\n\u001b[1;32m    350\u001b[0m experiment_id \u001b[38;5;241m=\u001b[39m _resolve_experiment_id(\n\u001b[1;32m    351\u001b[0m     experiment_name\u001b[38;5;241m=\u001b[39mexperiment_name, experiment_id\u001b[38;5;241m=\u001b[39mexperiment_id\n\u001b[1;32m    352\u001b[0m )\n\u001b[0;32m--> 354\u001b[0m submitted_run_obj \u001b[38;5;241m=\u001b[39m \u001b[43m_run\u001b[49m\u001b[43m(\u001b[49m\n\u001b[1;32m    355\u001b[0m \u001b[43m    \u001b[49m\u001b[43muri\u001b[49m\u001b[38;5;241;43m=\u001b[39;49m\u001b[43muri\u001b[49m\u001b[43m,\u001b[49m\n\u001b[1;32m    356\u001b[0m \u001b[43m    \u001b[49m\u001b[43mexperiment_id\u001b[49m\u001b[38;5;241;43m=\u001b[39;49m\u001b[43mexperiment_id\u001b[49m\u001b[43m,\u001b[49m\n\u001b[1;32m    357\u001b[0m \u001b[43m    \u001b[49m\u001b[43mentry_point\u001b[49m\u001b[38;5;241;43m=\u001b[39;49m\u001b[43mentry_point\u001b[49m\u001b[43m,\u001b[49m\n\u001b[1;32m    358\u001b[0m \u001b[43m    \u001b[49m\u001b[43mversion\u001b[49m\u001b[38;5;241;43m=\u001b[39;49m\u001b[43mversion\u001b[49m\u001b[43m,\u001b[49m\n\u001b[1;32m    359\u001b[0m \u001b[43m    \u001b[49m\u001b[43mparameters\u001b[49m\u001b[38;5;241;43m=\u001b[39;49m\u001b[43mparameters\u001b[49m\u001b[43m,\u001b[49m\n\u001b[1;32m    360\u001b[0m \u001b[43m    \u001b[49m\u001b[43mdocker_args\u001b[49m\u001b[38;5;241;43m=\u001b[39;49m\u001b[43mdocker_args\u001b[49m\u001b[43m,\u001b[49m\n\u001b[1;32m    361\u001b[0m \u001b[43m    \u001b[49m\u001b[43mbackend_name\u001b[49m\u001b[38;5;241;43m=\u001b[39;49m\u001b[43mbackend\u001b[49m\u001b[43m,\u001b[49m\n\u001b[1;32m    362\u001b[0m \u001b[43m    \u001b[49m\u001b[43mbackend_config\u001b[49m\u001b[38;5;241;43m=\u001b[39;49m\u001b[43mbackend_config_dict\u001b[49m\u001b[43m,\u001b[49m\n\u001b[1;32m    363\u001b[0m \u001b[43m    \u001b[49m\u001b[43menv_manager\u001b[49m\u001b[38;5;241;43m=\u001b[39;49m\u001b[43menv_manager\u001b[49m\u001b[43m,\u001b[49m\n\u001b[1;32m    364\u001b[0m \u001b[43m    \u001b[49m\u001b[43mstorage_dir\u001b[49m\u001b[38;5;241;43m=\u001b[39;49m\u001b[43mstorage_dir\u001b[49m\u001b[43m,\u001b[49m\n\u001b[1;32m    365\u001b[0m \u001b[43m    \u001b[49m\u001b[43msynchronous\u001b[49m\u001b[38;5;241;43m=\u001b[39;49m\u001b[43msynchronous\u001b[49m\u001b[43m,\u001b[49m\n\u001b[1;32m    366\u001b[0m \u001b[43m    \u001b[49m\u001b[43mrun_name\u001b[49m\u001b[38;5;241;43m=\u001b[39;49m\u001b[43mrun_name\u001b[49m\u001b[43m,\u001b[49m\n\u001b[1;32m    367\u001b[0m \u001b[43m    \u001b[49m\u001b[43mbuild_image\u001b[49m\u001b[38;5;241;43m=\u001b[39;49m\u001b[43mbuild_image\u001b[49m\u001b[43m,\u001b[49m\n\u001b[1;32m    368\u001b[0m \u001b[43m    \u001b[49m\u001b[43mdocker_auth\u001b[49m\u001b[38;5;241;43m=\u001b[39;49m\u001b[43mdocker_auth\u001b[49m\u001b[43m,\u001b[49m\n\u001b[1;32m    369\u001b[0m \u001b[43m\u001b[49m\u001b[43m)\u001b[49m\n\u001b[1;32m    370\u001b[0m \u001b[38;5;28;01mif\u001b[39;00m synchronous:\n\u001b[1;32m    371\u001b[0m     _wait_for(submitted_run_obj)\n",
      "File \u001b[0;32m~/Desktop/ZipCode/Python/myenv/lib/python3.12/site-packages/mlflow/projects/__init__.py:109\u001b[0m, in \u001b[0;36m_run\u001b[0;34m(uri, experiment_id, entry_point, version, parameters, docker_args, backend_name, backend_config, storage_dir, env_manager, synchronous, run_name, build_image, docker_auth)\u001b[0m\n\u001b[1;32m    107\u001b[0m backend \u001b[38;5;241m=\u001b[39m loader\u001b[38;5;241m.\u001b[39mload_backend(backend_name)\n\u001b[1;32m    108\u001b[0m \u001b[38;5;28;01mif\u001b[39;00m backend:\n\u001b[0;32m--> 109\u001b[0m     submitted_run \u001b[38;5;241m=\u001b[39m \u001b[43mbackend\u001b[49m\u001b[38;5;241;43m.\u001b[39;49m\u001b[43mrun\u001b[49m\u001b[43m(\u001b[49m\n\u001b[1;32m    110\u001b[0m \u001b[43m        \u001b[49m\u001b[43muri\u001b[49m\u001b[43m,\u001b[49m\n\u001b[1;32m    111\u001b[0m \u001b[43m        \u001b[49m\u001b[43mentry_point\u001b[49m\u001b[43m,\u001b[49m\n\u001b[1;32m    112\u001b[0m \u001b[43m        \u001b[49m\u001b[43mparameters\u001b[49m\u001b[43m,\u001b[49m\n\u001b[1;32m    113\u001b[0m \u001b[43m        \u001b[49m\u001b[43mversion\u001b[49m\u001b[43m,\u001b[49m\n\u001b[1;32m    114\u001b[0m \u001b[43m        \u001b[49m\u001b[43mbackend_config\u001b[49m\u001b[43m,\u001b[49m\n\u001b[1;32m    115\u001b[0m \u001b[43m        \u001b[49m\u001b[43mtracking_store_uri\u001b[49m\u001b[43m,\u001b[49m\n\u001b[1;32m    116\u001b[0m \u001b[43m        \u001b[49m\u001b[43mexperiment_id\u001b[49m\u001b[43m,\u001b[49m\n\u001b[1;32m    117\u001b[0m \u001b[43m    \u001b[49m\u001b[43m)\u001b[49m\n\u001b[1;32m    118\u001b[0m     tracking\u001b[38;5;241m.\u001b[39mMlflowClient()\u001b[38;5;241m.\u001b[39mset_tag(\n\u001b[1;32m    119\u001b[0m         submitted_run\u001b[38;5;241m.\u001b[39mrun_id, MLFLOW_PROJECT_BACKEND, backend_name\n\u001b[1;32m    120\u001b[0m     )\n\u001b[1;32m    121\u001b[0m     \u001b[38;5;28;01mif\u001b[39;00m run_name \u001b[38;5;129;01mis\u001b[39;00m \u001b[38;5;129;01mnot\u001b[39;00m \u001b[38;5;28;01mNone\u001b[39;00m:\n",
      "File \u001b[0;32m~/Desktop/ZipCode/Python/myenv/lib/python3.12/site-packages/mlflow/projects/backend/local.py:172\u001b[0m, in \u001b[0;36mLocalBackend.run\u001b[0;34m(self, project_uri, entry_point, params, version, backend_config, tracking_uri, experiment_id)\u001b[0m\n\u001b[1;32m    170\u001b[0m     tracking\u001b[38;5;241m.\u001b[39mMlflowClient()\u001b[38;5;241m.\u001b[39mset_tag(active_run\u001b[38;5;241m.\u001b[39minfo\u001b[38;5;241m.\u001b[39mrun_id, MLFLOW_PROJECT_ENV, \u001b[38;5;124m\"\u001b[39m\u001b[38;5;124mconda\u001b[39m\u001b[38;5;124m\"\u001b[39m)\n\u001b[1;32m    171\u001b[0m     command_separator \u001b[38;5;241m=\u001b[39m \u001b[38;5;124m\"\u001b[39m\u001b[38;5;124m && \u001b[39m\u001b[38;5;124m\"\u001b[39m\n\u001b[0;32m--> 172\u001b[0m     conda_env \u001b[38;5;241m=\u001b[39m \u001b[43mget_or_create_conda_env\u001b[49m\u001b[43m(\u001b[49m\u001b[43mproject\u001b[49m\u001b[38;5;241;43m.\u001b[39;49m\u001b[43menv_config_path\u001b[49m\u001b[43m)\u001b[49m\n\u001b[1;32m    173\u001b[0m     command_args \u001b[38;5;241m+\u001b[39m\u001b[38;5;241m=\u001b[39m conda_env\u001b[38;5;241m.\u001b[39mget_activate_command()\n\u001b[1;32m    175\u001b[0m \u001b[38;5;66;03m# In synchronous mode, run the entry point command in a blocking fashion, sending status\u001b[39;00m\n\u001b[1;32m    176\u001b[0m \u001b[38;5;66;03m# updates to the tracking server when finished. Note that the run state may not be\u001b[39;00m\n\u001b[1;32m    177\u001b[0m \u001b[38;5;66;03m# persisted to the tracking server if interrupted\u001b[39;00m\n",
      "File \u001b[0;32m~/Desktop/ZipCode/Python/myenv/lib/python3.12/site-packages/mlflow/utils/conda.py:282\u001b[0m, in \u001b[0;36mget_or_create_conda_env\u001b[0;34m(conda_env_path, env_id, capture_output, env_root_dir, pip_requirements_override)\u001b[0m\n\u001b[1;32m    277\u001b[0m \u001b[38;5;28;01mtry\u001b[39;00m:\n\u001b[1;32m    278\u001b[0m     _create_conda_env_func \u001b[38;5;241m=\u001b[39m (\n\u001b[1;32m    279\u001b[0m         \u001b[38;5;66;03m# Retry conda env creation in a pytest session to avoid flaky test failures\u001b[39;00m\n\u001b[1;32m    280\u001b[0m         _create_conda_env_retry \u001b[38;5;28;01mif\u001b[39;00m \u001b[38;5;124m\"\u001b[39m\u001b[38;5;124mPYTEST_CURRENT_TEST\u001b[39m\u001b[38;5;124m\"\u001b[39m \u001b[38;5;129;01min\u001b[39;00m os\u001b[38;5;241m.\u001b[39menviron \u001b[38;5;28;01melse\u001b[39;00m _create_conda_env\n\u001b[1;32m    281\u001b[0m     )\n\u001b[0;32m--> 282\u001b[0m     conda_env \u001b[38;5;241m=\u001b[39m \u001b[43m_create_conda_env_func\u001b[49m\u001b[43m(\u001b[49m\n\u001b[1;32m    283\u001b[0m \u001b[43m        \u001b[49m\u001b[43mconda_env_path\u001b[49m\u001b[43m,\u001b[49m\n\u001b[1;32m    284\u001b[0m \u001b[43m        \u001b[49m\u001b[43mconda_env_create_path\u001b[49m\u001b[43m,\u001b[49m\n\u001b[1;32m    285\u001b[0m \u001b[43m        \u001b[49m\u001b[43mproject_env_name\u001b[49m\u001b[43m,\u001b[49m\n\u001b[1;32m    286\u001b[0m \u001b[43m        \u001b[49m\u001b[43mconda_extra_env_vars\u001b[49m\u001b[43m,\u001b[49m\n\u001b[1;32m    287\u001b[0m \u001b[43m        \u001b[49m\u001b[43mcapture_output\u001b[49m\u001b[43m,\u001b[49m\n\u001b[1;32m    288\u001b[0m \u001b[43m    \u001b[49m\u001b[43m)\u001b[49m\n\u001b[1;32m    290\u001b[0m     \u001b[38;5;28;01mif\u001b[39;00m pip_requirements_override:\n\u001b[1;32m    291\u001b[0m         _logger\u001b[38;5;241m.\u001b[39minfo(\n\u001b[1;32m    292\u001b[0m             \u001b[38;5;124m\"\u001b[39m\u001b[38;5;124mInstalling additional dependencies specified\u001b[39m\u001b[38;5;124m\"\u001b[39m\n\u001b[1;32m    293\u001b[0m             \u001b[38;5;124mf\u001b[39m\u001b[38;5;124m\"\u001b[39m\u001b[38;5;124mby pip_requirements_override: \u001b[39m\u001b[38;5;132;01m{\u001b[39;00mpip_requirements_override\u001b[38;5;132;01m}\u001b[39;00m\u001b[38;5;124m\"\u001b[39m\n\u001b[1;32m    294\u001b[0m         )\n",
      "File \u001b[0;32m~/Desktop/ZipCode/Python/myenv/lib/python3.12/site-packages/mlflow/utils/conda.py:110\u001b[0m, in \u001b[0;36m_create_conda_env\u001b[0;34m(conda_env_path, conda_env_create_path, project_env_name, conda_extra_env_vars, capture_output)\u001b[0m\n\u001b[1;32m    102\u001b[0m \u001b[38;5;28;01mdef\u001b[39;00m \u001b[38;5;21m_create_conda_env\u001b[39m(\n\u001b[1;32m    103\u001b[0m     conda_env_path,\n\u001b[1;32m    104\u001b[0m     conda_env_create_path,\n\u001b[0;32m   (...)\u001b[0m\n\u001b[1;32m    107\u001b[0m     capture_output,\n\u001b[1;32m    108\u001b[0m ):\n\u001b[1;32m    109\u001b[0m     \u001b[38;5;28;01mif\u001b[39;00m conda_env_path:\n\u001b[0;32m--> 110\u001b[0m         \u001b[43mprocess\u001b[49m\u001b[38;5;241;43m.\u001b[39;49m\u001b[43m_exec_cmd\u001b[49m\u001b[43m(\u001b[49m\n\u001b[1;32m    111\u001b[0m \u001b[43m            \u001b[49m\u001b[43m[\u001b[49m\n\u001b[1;32m    112\u001b[0m \u001b[43m                \u001b[49m\u001b[43mconda_env_create_path\u001b[49m\u001b[43m,\u001b[49m\n\u001b[1;32m    113\u001b[0m \u001b[43m                \u001b[49m\u001b[38;5;124;43m\"\u001b[39;49m\u001b[38;5;124;43menv\u001b[39;49m\u001b[38;5;124;43m\"\u001b[39;49m\u001b[43m,\u001b[49m\n\u001b[1;32m    114\u001b[0m \u001b[43m                \u001b[49m\u001b[38;5;124;43m\"\u001b[39;49m\u001b[38;5;124;43mcreate\u001b[39;49m\u001b[38;5;124;43m\"\u001b[39;49m\u001b[43m,\u001b[49m\n\u001b[1;32m    115\u001b[0m \u001b[43m                \u001b[49m\u001b[38;5;124;43m\"\u001b[39;49m\u001b[38;5;124;43m-n\u001b[39;49m\u001b[38;5;124;43m\"\u001b[39;49m\u001b[43m,\u001b[49m\n\u001b[1;32m    116\u001b[0m \u001b[43m                \u001b[49m\u001b[43mproject_env_name\u001b[49m\u001b[43m,\u001b[49m\n\u001b[1;32m    117\u001b[0m \u001b[43m                \u001b[49m\u001b[38;5;124;43m\"\u001b[39;49m\u001b[38;5;124;43m--file\u001b[39;49m\u001b[38;5;124;43m\"\u001b[39;49m\u001b[43m,\u001b[49m\n\u001b[1;32m    118\u001b[0m \u001b[43m                \u001b[49m\u001b[43mconda_env_path\u001b[49m\u001b[43m,\u001b[49m\n\u001b[1;32m    119\u001b[0m \u001b[43m                \u001b[49m\u001b[38;5;124;43m\"\u001b[39;49m\u001b[38;5;124;43m--quiet\u001b[39;49m\u001b[38;5;124;43m\"\u001b[39;49m\u001b[43m,\u001b[49m\n\u001b[1;32m    120\u001b[0m \u001b[43m            \u001b[49m\u001b[43m]\u001b[49m\u001b[43m,\u001b[49m\n\u001b[1;32m    121\u001b[0m \u001b[43m            \u001b[49m\u001b[43mextra_env\u001b[49m\u001b[38;5;241;43m=\u001b[39;49m\u001b[43mconda_extra_env_vars\u001b[49m\u001b[43m,\u001b[49m\n\u001b[1;32m    122\u001b[0m \u001b[43m            \u001b[49m\u001b[43mcapture_output\u001b[49m\u001b[38;5;241;43m=\u001b[39;49m\u001b[43mcapture_output\u001b[49m\u001b[43m,\u001b[49m\n\u001b[1;32m    123\u001b[0m \u001b[43m        \u001b[49m\u001b[43m)\u001b[49m\n\u001b[1;32m    124\u001b[0m     \u001b[38;5;28;01melse\u001b[39;00m:\n\u001b[1;32m    125\u001b[0m         process\u001b[38;5;241m.\u001b[39m_exec_cmd(\n\u001b[1;32m    126\u001b[0m             [\n\u001b[1;32m    127\u001b[0m                 conda_env_create_path,\n\u001b[0;32m   (...)\u001b[0m\n\u001b[1;32m    138\u001b[0m             capture_output\u001b[38;5;241m=\u001b[39mcapture_output,\n\u001b[1;32m    139\u001b[0m         )\n",
      "File \u001b[0;32m~/Desktop/ZipCode/Python/myenv/lib/python3.12/site-packages/mlflow/utils/process.py:141\u001b[0m, in \u001b[0;36m_exec_cmd\u001b[0;34m(cmd, throw_on_error, extra_env, capture_output, synchronous, stream_output, **kwargs)\u001b[0m\n\u001b[1;32m    134\u001b[0m comp_process \u001b[38;5;241m=\u001b[39m subprocess\u001b[38;5;241m.\u001b[39mCompletedProcess(\n\u001b[1;32m    135\u001b[0m     process\u001b[38;5;241m.\u001b[39margs,\n\u001b[1;32m    136\u001b[0m     returncode\u001b[38;5;241m=\u001b[39mreturncode,\n\u001b[1;32m    137\u001b[0m     stdout\u001b[38;5;241m=\u001b[39mstdout,\n\u001b[1;32m    138\u001b[0m     stderr\u001b[38;5;241m=\u001b[39mstderr,\n\u001b[1;32m    139\u001b[0m )\n\u001b[1;32m    140\u001b[0m \u001b[38;5;28;01mif\u001b[39;00m throw_on_error \u001b[38;5;129;01mand\u001b[39;00m returncode \u001b[38;5;241m!=\u001b[39m \u001b[38;5;241m0\u001b[39m:\n\u001b[0;32m--> 141\u001b[0m     \u001b[38;5;28;01mraise\u001b[39;00m ShellCommandException\u001b[38;5;241m.\u001b[39mfrom_completed_process(comp_process)\n\u001b[1;32m    142\u001b[0m \u001b[38;5;28;01mreturn\u001b[39;00m comp_process\n",
      "\u001b[0;31mShellCommandException\u001b[0m: Non-zero exit code: 1\nCommand: ['conda', 'env', 'create', '-n', 'mlflow-a91eb9b529409372aa4585b19c73952959a7a296', '--file', '/var/folders/zm/d0465cgn1zvdzj96xmp0pxww0000gp/T/tmp43p2dgwn/mlflow-project-example/conda.yaml', '--quiet']"
     ]
    }
   ],
   "source": [
    "mlflow.run(\"https://github.com/databricks/LearningSparkV2/#mlflow-project-example\",parameters={\"max_depth\": 5, \"num_trees\": 100})"
   ]
  },
  {
   "cell_type": "code",
   "execution_count": 20,
   "id": "b2a98911-bcdc-47c9-b099-bd312a7cb4c9",
   "metadata": {},
   "outputs": [
    {
     "name": "stderr",
     "output_type": "stream",
     "text": [
      "2024/08/20 10:17:55 INFO mlflow.spark: 'runs:/14bc0371c5074b6dae3e1ca166927820/model' resolved as 'file:///Users/qian/Desktop/ZipCode/Python/SparkML/mlruns/0/14bc0371c5074b6dae3e1ca166927820/artifacts/model'\n",
      "2024/08/20 10:17:55 INFO mlflow.spark: URI 'runs:/14bc0371c5074b6dae3e1ca166927820/model/sparkml' does not point to the current DFS.\n",
      "2024/08/20 10:17:55 INFO mlflow.spark: File 'runs:/14bc0371c5074b6dae3e1ca166927820/model/sparkml' not found on DFS. Will attempt to upload the file.\n"
     ]
    }
   ],
   "source": [
    "# Load saved model with MLflow\n",
    "import mlflow.spark\n",
    "pipelineModel = mlflow.spark.load_model(f\"runs:/{run_id}/model\")\n",
    "\n",
    "# Generate predictions\n",
    "inputDF = spark.read.parquet(\"/Users/qian/Desktop/Zipcode/Python/LearningSparkV2/databricks-datasets/learning-spark-v2/sf-airbnb/sf-airbnb-clean.parquet/\")\n",
    "\n",
    "predDF = pipelineModel.transform(inputDF)"
   ]
  },
  {
   "cell_type": "code",
   "execution_count": null,
   "id": "7d10819d-9545-48fa-97d7-ff0c865f7c2d",
   "metadata": {},
   "outputs": [],
   "source": [
    "!git add .\n",
    "!git commit -m '12'\n",
    "!git "
   ]
  }
 ],
 "metadata": {
  "kernelspec": {
   "display_name": "Python 3 (ipykernel)",
   "language": "python",
   "name": "python3"
  },
  "language_info": {
   "codemirror_mode": {
    "name": "ipython",
    "version": 3
   },
   "file_extension": ".py",
   "mimetype": "text/x-python",
   "name": "python",
   "nbconvert_exporter": "python",
   "pygments_lexer": "ipython3",
   "version": "3.12.5"
  }
 },
 "nbformat": 4,
 "nbformat_minor": 5
}
